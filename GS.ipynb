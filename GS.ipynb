{
 "cells": [
  {
   "cell_type": "code",
   "execution_count": 12,
   "id": "bf89a036-43a6-4e96-a5ba-4411a8cecf3f",
   "metadata": {},
   "outputs": [],
   "source": [
    "import pandas as pd\n",
    "import matplotlib.pyplot as plt\n",
    "import seaborn as sns\n",
    "import numpy as np"
   ]
  },
  {
   "cell_type": "code",
   "execution_count": 13,
   "id": "3cab865d-302e-4bfa-916c-1b95572e6980",
   "metadata": {},
   "outputs": [],
   "source": [
    "data = pd.read_csv('Cities1.csv')"
   ]
  },
  {
   "cell_type": "code",
   "execution_count": 14,
   "id": "387dbae5-1cbb-4e66-9068-239b214f1ca7",
   "metadata": {},
   "outputs": [
    {
     "name": "stdout",
     "output_type": "stream",
     "text": [
      "<class 'pandas.core.frame.DataFrame'>\n",
      "RangeIndex: 3963 entries, 0 to 3962\n",
      "Data columns (total 5 columns):\n",
      " #   Column          Non-Null Count  Dtype  \n",
      "---  ------          --------------  -----  \n",
      " 0   City            3963 non-null   object \n",
      " 1   Region          3538 non-null   object \n",
      " 2   Country         3963 non-null   object \n",
      " 3   AirQuality      3963 non-null   float64\n",
      " 4   WaterPollution  3963 non-null   float64\n",
      "dtypes: float64(2), object(3)\n",
      "memory usage: 154.9+ KB\n",
      "None\n",
      "        AirQuality  WaterPollution\n",
      "count  3963.000000     3963.000000\n",
      "mean     62.253452       44.635372\n",
      "std      30.944753       25.663910\n",
      "min       0.000000        0.000000\n",
      "25%      37.686567       25.000000\n",
      "50%      69.444444       50.000000\n",
      "75%      87.500000       57.719393\n",
      "max     100.000000      100.000000\n"
     ]
    }
   ],
   "source": [
    "# descrição dos dados\n",
    "print(data.info())\n",
    "print(data.describe())\n"
   ]
  },
  {
   "cell_type": "code",
   "execution_count": 15,
   "id": "db1f8c54-717f-4fc1-95a9-0797c7e3bb80",
   "metadata": {},
   "outputs": [
    {
     "name": "stdout",
     "output_type": "stream",
     "text": [
      "Valores nulos em cada coluna:\n",
      "City                0\n",
      "Region            425\n",
      "Country             0\n",
      "AirQuality          0\n",
      "WaterPollution      0\n",
      "dtype: int64\n"
     ]
    }
   ],
   "source": [
    "# valores nulos\n",
    "null_valores = data.isnull().sum()\n",
    "print(f'Valores nulos em cada coluna:\\n{null_valores}')"
   ]
  },
  {
   "cell_type": "code",
   "execution_count": 16,
   "id": "1609987e-8be8-4e05-a579-ef2778fc608b",
   "metadata": {},
   "outputs": [
    {
     "name": "stdout",
     "output_type": "stream",
     "text": [
      "Estatísticas Descritivas - Qualidade do Ar:\n",
      "count    3963.000000\n",
      "mean       62.253452\n",
      "std        30.944753\n",
      "min         0.000000\n",
      "25%        37.686567\n",
      "50%        69.444444\n",
      "75%        87.500000\n",
      "max       100.000000\n",
      "Name: AirQuality, dtype: float64\n",
      "\n",
      "Estatísticas Descritivas - Poluição da Água:\n",
      "count    3963.000000\n",
      "mean       44.635372\n",
      "std        25.663910\n",
      "min         0.000000\n",
      "25%        25.000000\n",
      "50%        50.000000\n",
      "75%        57.719393\n",
      "max       100.000000\n",
      "Name: WaterPollution, dtype: float64\n"
     ]
    }
   ],
   "source": [
    "# fazendo calculos de algumas estatísticas descritivas\n",
    "air_quality_desc = data['AirQuality'].describe()\n",
    "water_pollution_desc = data['WaterPollution'].describe()\n",
    "\n",
    "print(\"Estatísticas Descritivas - Qualidade do Ar:\")\n",
    "print(air_quality_desc)\n",
    "\n",
    "print(\"\\nEstatísticas Descritivas - Poluição da Água:\")\n",
    "print(water_pollution_desc)\n"
   ]
  },
  {
   "cell_type": "code",
   "execution_count": 17,
   "id": "3afaeb27-b519-41c6-890e-d2be313f9928",
   "metadata": {},
   "outputs": [
    {
     "name": "stdout",
     "output_type": "stream",
     "text": [
      "Correlação entre Qualidade do Ar e Poluição da Água: -0.45417262259393154\n"
     ]
    }
   ],
   "source": [
    "# calcular a correlação entre AirQuality e WaterPollution\n",
    "correlation = data['AirQuality'].corr(data['WaterPollution'])\n",
    "print(f'Correlação entre Qualidade do Ar e Poluição da Água: {correlation}')\n"
   ]
  },
  {
   "cell_type": "code",
   "execution_count": 21,
   "id": "1fa87ad8-d944-42f9-bac0-07812c2c6fe2",
   "metadata": {},
   "outputs": [
    {
     "name": "stdout",
     "output_type": "stream",
     "text": [
      "Teste t para Qualidade do Ar entre EUA e Alemanha: t-stat=-2.2222799218057916, df=224.55301180507547\n",
      "Diferença significativa na Qualidade do Ar entre EUA e Alemanha.\n"
     ]
    }
   ],
   "source": [
    "# função para calcular o valor t manualmente\n",
    "def manual_ttest(group1, group2):\n",
    "    n1, n2 = len(group1), len(group2)\n",
    "    mean1, mean2 = np.mean(group1), np.mean(group2)\n",
    "    var1, var2 = np.var(group1, ddof=1), np.var(group2, ddof=1)\n",
    "    t_stat = (mean1 - mean2) / np.sqrt((var1/n1) + (var2/n2))\n",
    "    df = ((var1/n1) + (var2/n2))**2 / (((var1/n1)**2 / (n1-1)) + ((var2/n2)**2 / (n2-1)))\n",
    "    return t_stat, df\n",
    "\n",
    "# dados para comparação\n",
    "country1 = data[data['Country'] == 'United States of America']['AirQuality'].dropna()\n",
    "country2 = data[data['Country'] == 'Germany']['AirQuality'].dropna()\n",
    "\n",
    "# calcular estatística t e graus de liberdade\n",
    "t_stat_air, df_air = manual_ttest(country1, country2)\n",
    "print(f'Teste t para Qualidade do Ar entre EUA e Alemanha: t-stat={t_stat_air}, df={df_air}')\n",
    "\n",
    "# verificação simples de significância\n",
    "if abs(t_stat_air) > 2:\n",
    "    print('Diferença significativa na Qualidade do Ar entre EUA e Alemanha.')\n",
    "else:\n",
    "    print('Nenhuma diferença significativa na Qualidade do Ar entre EUA e Alemanha.')\n"
   ]
  },
  {
   "cell_type": "code",
   "execution_count": 19,
   "id": "8125cd24-bcd3-43b4-932a-5c7f6edc06e4",
   "metadata": {},
   "outputs": [
    {
     "name": "stdout",
     "output_type": "stream",
     "text": [
      "Teste t para Poluição da Água entre EUA e Alemanha: t-stat=3.0792990314303323, df=174.25598088242202\n",
      "Diferença significativa na Poluição da Água entre EUA e Alemanha.\n"
     ]
    }
   ],
   "source": [
    "# calcular o valor t \n",
    "def manual_ttest(group1, group2):\n",
    "    n1, n2 = len(group1), len(group2)\n",
    "    mean1, mean2 = np.mean(group1), np.mean(group2)\n",
    "    var1, var2 = np.var(group1, ddof=1), np.var(group2, ddof=1)\n",
    "    t_stat = (mean1 - mean2) / np.sqrt((var1/n1) + (var2/n2))\n",
    "    df = ((var1/n1) + (var2/n2))**2 / (((var1/n1)**2 / (n1-1)) + ((var2/n2)**2 / (n2-1)))\n",
    "    return t_stat, df\n",
    "\n",
    "# dados para comparação\n",
    "country1_water = data[data['Country'] == 'United States of America']['WaterPollution'].dropna()\n",
    "country2_water = data[data['Country'] == 'Germany']['WaterPollution'].dropna()\n",
    "\n",
    "# calcular t-stat e df\n",
    "t_stat_water, df_water = manual_ttest(country1_water, country2_water)\n",
    "print(f'Teste t para Poluição da Água entre EUA e Alemanha: t-stat={t_stat_water}, df={df_water}')\n",
    "\n",
    "# verificação simples de significância\n",
    "if abs(t_stat_water) > 2:\n",
    "    print('Diferença significativa na Poluição da Água entre EUA e Alemanha.')\n",
    "else:\n",
    "    print('Nenhuma diferença significativa na Poluição da Água entre EUA e Alemanha.')\n"
   ]
  },
  {
   "cell_type": "code",
   "execution_count": 20,
   "id": "5d257cdd-524b-4254-8adc-0b8b644e6193",
   "metadata": {},
   "outputs": [
    {
     "name": "stdout",
     "output_type": "stream",
     "text": [
      "Teste t para Qualidade do Ar entre Brasil e Índia: t-stat=6.346661694117115, df=200.03407132603226\n",
      "Diferença significativa na Qualidade do Ar entre Brasil e Índia.\n"
     ]
    }
   ],
   "source": [
    "# dados para Brasil e Índia\n",
    "brazil_air = data[data['Country'] == 'Brazil']['AirQuality'].dropna()\n",
    "india_air = data[data['Country'] == 'India']['AirQuality'].dropna()\n",
    "\n",
    "# calcular t-stat e df\n",
    "t_stat_brazil_india, df_brazil_india = manual_ttest(brazil_air, india_air)\n",
    "print(f'Teste t para Qualidade do Ar entre Brasil e Índia: t-stat={t_stat_brazil_india}, df={df_brazil_india}')\n",
    "\n",
    "# verificação simples de significância\n",
    "if abs(t_stat_brazil_india) > 2:\n",
    "    print('Diferença significativa na Qualidade do Ar entre Brasil e Índia.')\n",
    "else:\n",
    "    print('Nenhuma diferença significativa na Qualidade do Ar entre Brasil e Índia.')\n"
   ]
  }
 ],
 "metadata": {
  "kernelspec": {
   "display_name": "Python 3 (ipykernel)",
   "language": "python",
   "name": "python3"
  },
  "language_info": {
   "codemirror_mode": {
    "name": "ipython",
    "version": 3
   },
   "file_extension": ".py",
   "mimetype": "text/x-python",
   "name": "python",
   "nbconvert_exporter": "python",
   "pygments_lexer": "ipython3",
   "version": "3.12.3"
  }
 },
 "nbformat": 4,
 "nbformat_minor": 5
}
