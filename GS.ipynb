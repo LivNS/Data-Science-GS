{
 "cells": [
  {
   "cell_type": "code",
   "execution_count": 3,
   "id": "bf89a036-43a6-4e96-a5ba-4411a8cecf3f",
   "metadata": {},
   "outputs": [],
   "source": [
    "import pandas as pd\n",
    "import matplotlib.pyplot as plt\n",
    "import seaborn as sns\n",
    "import numpy as np"
   ]
  },
  {
   "cell_type": "code",
   "execution_count": 4,
   "id": "3cab865d-302e-4bfa-916c-1b95572e6980",
   "metadata": {},
   "outputs": [],
   "source": [
    "data = pd.read_csv('Cities1.csv')"
   ]
  },
  {
   "cell_type": "code",
   "execution_count": 5,
   "id": "387dbae5-1cbb-4e66-9068-239b214f1ca7",
   "metadata": {},
   "outputs": [
    {
     "name": "stdout",
     "output_type": "stream",
     "text": [
      "<class 'pandas.core.frame.DataFrame'>\n",
      "RangeIndex: 3963 entries, 0 to 3962\n",
      "Data columns (total 5 columns):\n",
      " #   Column          Non-Null Count  Dtype  \n",
      "---  ------          --------------  -----  \n",
      " 0   City            3963 non-null   object \n",
      " 1   Region          3538 non-null   object \n",
      " 2   Country         3963 non-null   object \n",
      " 3   AirQuality      3963 non-null   float64\n",
      " 4   WaterPollution  3963 non-null   float64\n",
      "dtypes: float64(2), object(3)\n",
      "memory usage: 154.9+ KB\n",
      "None\n",
      "        AirQuality  WaterPollution\n",
      "count  3963.000000     3963.000000\n",
      "mean     62.253452       44.635372\n",
      "std      30.944753       25.663910\n",
      "min       0.000000        0.000000\n",
      "25%      37.686567       25.000000\n",
      "50%      69.444444       50.000000\n",
      "75%      87.500000       57.719393\n",
      "max     100.000000      100.000000\n"
     ]
    }
   ],
   "source": [
    "# descrição dos dados\n",
    "print(data.info())\n",
    "print(data.describe())\n"
   ]
  },
  {
   "cell_type": "code",
   "execution_count": 6,
   "id": "db1f8c54-717f-4fc1-95a9-0797c7e3bb80",
   "metadata": {},
   "outputs": [
    {
     "name": "stdout",
     "output_type": "stream",
     "text": [
      "Valores nulos em cada coluna:\n",
      "City                0\n",
      "Region            425\n",
      "Country             0\n",
      "AirQuality          0\n",
      "WaterPollution      0\n",
      "dtype: int64\n"
     ]
    }
   ],
   "source": [
    "# valores nulos\n",
    "null_valores = data.isnull().sum()\n",
    "print(f'Valores nulos em cada coluna:\\n{null_valores}')"
   ]
  },
  {
   "cell_type": "code",
   "execution_count": 7,
   "id": "1609987e-8be8-4e05-a579-ef2778fc608b",
   "metadata": {},
   "outputs": [
    {
     "name": "stdout",
     "output_type": "stream",
     "text": [
      "Estatísticas Descritivas - Qualidade do Ar:\n",
      "count    3963.000000\n",
      "mean       62.253452\n",
      "std        30.944753\n",
      "min         0.000000\n",
      "25%        37.686567\n",
      "50%        69.444444\n",
      "75%        87.500000\n",
      "max       100.000000\n",
      "Name: AirQuality, dtype: float64\n",
      "\n",
      "Estatísticas Descritivas - Poluição da Água:\n",
      "count    3963.000000\n",
      "mean       44.635372\n",
      "std        25.663910\n",
      "min         0.000000\n",
      "25%        25.000000\n",
      "50%        50.000000\n",
      "75%        57.719393\n",
      "max       100.000000\n",
      "Name: WaterPollution, dtype: float64\n"
     ]
    }
   ],
   "source": [
    "# fazendo calculos de algumas estatísticas descritivas\n",
    "air_quality_desc = data['AirQuality'].describe()\n",
    "water_pollution_desc = data['WaterPollution'].describe()\n",
    "\n",
    "print(\"Estatísticas Descritivas - Qualidade do Ar:\")\n",
    "print(air_quality_desc)\n",
    "\n",
    "print(\"\\nEstatísticas Descritivas - Poluição da Água:\")\n",
    "print(water_pollution_desc)\n"
   ]
  },
  {
   "cell_type": "code",
   "execution_count": 14,
   "id": "21de6879-dbfb-4845-a49e-842431384258",
   "metadata": {},
   "outputs": [
    {
     "name": "stdin",
     "output_type": "stream",
     "text": [
      "Digite o número de linhas que deseja exibir:  24\n"
     ]
    },
    {
     "name": "stdout",
     "output_type": "stream",
     "text": [
      "Estatísticas Descritivas por País:\n",
      "                   Country AirQuality                                   \\\n",
      "                                 mean     median        std        min   \n",
      "0              Afghanistan  37.213694  31.085526  36.242793   0.000000   \n",
      "1                  Albania  51.873625  58.333333  40.051927   0.000000   \n",
      "2                  Algeria  57.607466  50.000000  27.295630   0.000000   \n",
      "3                  Andorra  43.750000  43.750000   8.838835  37.500000   \n",
      "4                   Angola  15.000000  15.000000        NaN  15.000000   \n",
      "5                Argentina  68.147781  75.000000  25.615390   0.000000   \n",
      "6                  Armenia  22.270115  25.000000  21.038428   0.000000   \n",
      "7                Australia  80.598013  84.375000  21.001346   0.000000   \n",
      "8                  Austria  83.490955  87.500000  13.504922  50.000000   \n",
      "9               Azerbaijan  29.896907  29.896907        NaN  29.896907   \n",
      "10                 Bahrain  32.656695  32.692308   7.638951  25.000000   \n",
      "11              Bangladesh  37.141523  25.000000  28.125403   6.250000   \n",
      "12                Barbados  88.333333  90.000000  12.583057  75.000000   \n",
      "13                 Belarus  50.506834  53.125000  12.877226  31.250000   \n",
      "14                 Belgium  67.730261  75.000000  22.958873   0.000000   \n",
      "15                  Belize  78.125000  81.250000  25.769410  50.000000   \n",
      "16                   Benin  25.000000  25.000000        NaN  25.000000   \n",
      "17                  Bhutan  59.821429  59.821429  21.465742  44.642857   \n",
      "18                 Bolivia  44.832516  38.970588  22.820055  26.388889   \n",
      "19  Bosnia and Herzegovina  57.296646  45.588235  34.117366  10.937500   \n",
      "20                Botswana  64.802632  64.802632   3.256413  62.500000   \n",
      "21                  Brazil  63.291876  62.500000  24.842414   0.000000   \n",
      "22                  Brunei  47.727273  47.727273  49.818887  12.500000   \n",
      "23                Bulgaria  43.882159  37.500000  24.692733  12.500000   \n",
      "\n",
      "                     WaterPollution                                     \\\n",
      "           max count           mean      median        std         min   \n",
      "0   100.000000     6      53.440657   62.500000  33.110138    0.000000   \n",
      "1   100.000000    12      57.834201   62.500000  30.965095    0.000000   \n",
      "2   100.000000    17      50.623043   50.000000  32.571516    0.000000   \n",
      "3    50.000000     2      25.000000   25.000000   0.000000   25.000000   \n",
      "4    15.000000     1      81.250000   81.250000        NaN   81.250000   \n",
      "5   100.000000    22      54.276152   54.207589  23.025883    0.000000   \n",
      "6    41.810345     3      45.000000   50.000000   8.660254   35.000000   \n",
      "7   100.000000    63      31.981841   28.223496  23.545392    0.000000   \n",
      "8   100.000000    36      37.733801   50.000000  20.806006    0.000000   \n",
      "9    29.896907     1      69.021739   69.021739        NaN   69.021739   \n",
      "10   40.277778     3      62.466398   53.125000  21.911050   46.774194   \n",
      "11  100.000000     9      59.124719   53.333333  20.217972   30.000000   \n",
      "12  100.000000     3      46.666667   50.000000  30.138569   15.000000   \n",
      "13   62.500000     5      42.495536   50.000000  17.580335   12.500000   \n",
      "14  100.000000    35      48.907794   50.000000  18.294861    0.000000   \n",
      "15  100.000000     4      70.486111   75.000000  10.958148   54.166667   \n",
      "16   25.000000     1     100.000000  100.000000        NaN  100.000000   \n",
      "17   75.000000     2      55.000000   55.000000   7.071068   50.000000   \n",
      "18   75.000000     4      74.573864   74.147727  20.888572   50.000000   \n",
      "19  100.000000    11      45.748106   44.010417  23.529245    0.000000   \n",
      "20   67.105263     2      56.250000   56.250000  26.516504   37.500000   \n",
      "21  100.000000   103      52.747595   50.000000  25.906378    0.000000   \n",
      "22   82.954545     2      74.431818   74.431818  36.158869   48.863636   \n",
      "23  100.000000    27      42.775743   50.000000  26.415061    0.000000   \n",
      "\n",
      "                      \n",
      "           max count  \n",
      "0    83.333333     6  \n",
      "1   100.000000    12  \n",
      "2   100.000000    17  \n",
      "3    25.000000     2  \n",
      "4    81.250000     1  \n",
      "5   100.000000    22  \n",
      "6    50.000000     3  \n",
      "7   100.000000    63  \n",
      "8    75.000000    36  \n",
      "9    69.021739     1  \n",
      "10   87.500000     3  \n",
      "11   93.750000     9  \n",
      "12   75.000000     3  \n",
      "13   55.000000     5  \n",
      "14  100.000000    35  \n",
      "15   77.777778     4  \n",
      "16  100.000000     1  \n",
      "17   60.000000     2  \n",
      "18  100.000000     4  \n",
      "19   87.500000    11  \n",
      "20   75.000000     2  \n",
      "21  100.000000   103  \n",
      "22  100.000000     2  \n",
      "23  100.000000    27  \n"
     ]
    }
   ],
   "source": [
    "# para conseguir verificar as linhas dos países desejados\n",
    "num_rows = int(input(\"Digite o número de linhas que deseja exibir: \"))\n",
    "\n",
    "# estatísticas descritivas por país\n",
    "country_grouped = data.groupby('Country').agg({\n",
    "    'AirQuality': ['mean', 'median', 'std', 'min', 'max', 'count'],\n",
    "    'WaterPollution': ['mean', 'median', 'std', 'min', 'max', 'count']\n",
    "}).reset_index()\n",
    "\n",
    "print(\"Estatísticas Descritivas por País:\")\n",
    "if num_rows >= len(country_grouped):\n",
    "    print(country_grouped)\n",
    "else:\n",
    "    print(country_grouped.head(num_rows))\n",
    "\n"
   ]
  },
  {
   "cell_type": "code",
   "execution_count": 11,
   "id": "3864e463-f357-4714-9963-cde12ebb76af",
   "metadata": {},
   "outputs": [
    {
     "name": "stdout",
     "output_type": "stream",
     "text": [
      "Estatísticas Descritivas por Região:\n",
      "                         Region  AirQuality                         \\\n",
      "                                       mean      median        std   \n",
      "0                ???il Province   41.666667   41.666667        NaN   \n",
      "1                    Abia State    0.000000    0.000000        NaN   \n",
      "2                       Abruzzo   74.305556   74.305556  18.659762   \n",
      "3                          Aceh   85.714286   85.714286  20.203051   \n",
      "4     Ad Dakhiliyah Governorate  100.000000  100.000000        NaN   \n",
      "...                         ...         ...         ...        ...   \n",
      "1147            Zhytomyr Oblast   43.750000   43.750000        NaN   \n",
      "1148              Zilina region   51.666667   55.000000   5.773503   \n",
      "1149          Zlatibor District   12.500000   12.500000  17.677670   \n",
      "1150                      Zulia   20.000000   20.000000        NaN   \n",
      "1151         canton of Fribourg   92.857143   92.857143        NaN   \n",
      "\n",
      "                                   WaterPollution                         \\\n",
      "             min         max count           mean      median        std   \n",
      "0      41.666667   41.666667     1      41.666667   41.666667        NaN   \n",
      "1       0.000000    0.000000     1      50.000000   50.000000        NaN   \n",
      "2      61.111111   87.500000     2      64.583333   64.583333  20.623948   \n",
      "3      71.428571  100.000000     2       6.250000    6.250000   8.838835   \n",
      "4     100.000000  100.000000     1     100.000000  100.000000        NaN   \n",
      "...          ...         ...   ...            ...         ...        ...   \n",
      "1147   43.750000   43.750000     1      56.250000   56.250000        NaN   \n",
      "1148   45.000000   55.000000     3      27.083333   31.250000  25.259074   \n",
      "1149    0.000000   25.000000     2      62.500000   62.500000  17.677670   \n",
      "1150   20.000000   20.000000     1      95.000000   95.000000        NaN   \n",
      "1151   92.857143   92.857143     1      25.000000   25.000000        NaN   \n",
      "\n",
      "                                    \n",
      "             min         max count  \n",
      "0      41.666667   41.666667     1  \n",
      "1      50.000000   50.000000     1  \n",
      "2      50.000000   79.166667     2  \n",
      "3       0.000000   12.500000     2  \n",
      "4     100.000000  100.000000     1  \n",
      "...          ...         ...   ...  \n",
      "1147   56.250000   56.250000     1  \n",
      "1148    0.000000   50.000000     3  \n",
      "1149   50.000000   75.000000     2  \n",
      "1150   95.000000   95.000000     1  \n",
      "1151   25.000000   25.000000     1  \n",
      "\n",
      "[1152 rows x 13 columns]\n"
     ]
    }
   ],
   "source": [
    "# estatísticas descritivas por região\n",
    "region_grouped = data.groupby('Region').agg({\n",
    "    'AirQuality': ['mean', 'median', 'std', 'min', 'max', 'count'],\n",
    "    'WaterPollution': ['mean', 'median', 'std', 'min', 'max', 'count']\n",
    "}).reset_index()\n",
    "\n",
    "print(\"Estatísticas Descritivas por Região:\")\n",
    "print(region_grouped)\n"
   ]
  },
  {
   "cell_type": "code",
   "execution_count": null,
   "id": "d41e8466-c0f6-4731-9f0f-30d8d1411e34",
   "metadata": {},
   "outputs": [],
   "source": []
  },
  {
   "cell_type": "code",
   "execution_count": 9,
   "id": "3afaeb27-b519-41c6-890e-d2be313f9928",
   "metadata": {},
   "outputs": [
    {
     "name": "stdout",
     "output_type": "stream",
     "text": [
      "Correlação entre Qualidade do Ar e Poluição da Água: -0.45417262259393154\n"
     ]
    }
   ],
   "source": [
    "# calcular a correlação entre AirQuality e WaterPollution\n",
    "correlation = data['AirQuality'].corr(data['WaterPollution'])\n",
    "print(f'Correlação entre Qualidade do Ar e Poluição da Água: {correlation}')\n"
   ]
  },
  {
   "cell_type": "code",
   "execution_count": 10,
   "id": "1fa87ad8-d944-42f9-bac0-07812c2c6fe2",
   "metadata": {},
   "outputs": [
    {
     "name": "stdout",
     "output_type": "stream",
     "text": [
      "Teste t para Qualidade do Ar entre EUA e Alemanha: t-stat=-2.2222799218057916, df=224.55301180507547\n",
      "Diferença significativa na Qualidade do Ar entre EUA e Alemanha.\n"
     ]
    }
   ],
   "source": [
    "# função para calcular o valor t manualmente\n",
    "def manual_ttest(group1, group2):\n",
    "    n1, n2 = len(group1), len(group2)\n",
    "    mean1, mean2 = np.mean(group1), np.mean(group2)\n",
    "    var1, var2 = np.var(group1, ddof=1), np.var(group2, ddof=1)\n",
    "    t_stat = (mean1 - mean2) / np.sqrt((var1/n1) + (var2/n2))\n",
    "    df = ((var1/n1) + (var2/n2))**2 / (((var1/n1)**2 / (n1-1)) + ((var2/n2)**2 / (n2-1)))\n",
    "    return t_stat, df\n",
    "\n",
    "# dados para comparação\n",
    "country1 = data[data['Country'] == 'United States of America']['AirQuality'].dropna()\n",
    "country2 = data[data['Country'] == 'Germany']['AirQuality'].dropna()\n",
    "\n",
    "# calcular estatística t e graus de liberdade\n",
    "t_stat_air, df_air = manual_ttest(country1, country2)\n",
    "print(f'Teste t para Qualidade do Ar entre EUA e Alemanha: t-stat={t_stat_air}, df={df_air}')\n",
    "\n",
    "# verificação simples de significância\n",
    "if abs(t_stat_air) > 2:\n",
    "    print('Diferença significativa na Qualidade do Ar entre EUA e Alemanha.')\n",
    "else:\n",
    "    print('Nenhuma diferença significativa na Qualidade do Ar entre EUA e Alemanha.')\n"
   ]
  },
  {
   "cell_type": "code",
   "execution_count": 19,
   "id": "8125cd24-bcd3-43b4-932a-5c7f6edc06e4",
   "metadata": {},
   "outputs": [
    {
     "name": "stdout",
     "output_type": "stream",
     "text": [
      "Teste t para Poluição da Água entre EUA e Alemanha: t-stat=3.0792990314303323, df=174.25598088242202\n",
      "Diferença significativa na Poluição da Água entre EUA e Alemanha.\n"
     ]
    }
   ],
   "source": [
    "# calcular o valor t \n",
    "def manual_ttest(group1, group2):\n",
    "    n1, n2 = len(group1), len(group2)\n",
    "    mean1, mean2 = np.mean(group1), np.mean(group2)\n",
    "    var1, var2 = np.var(group1, ddof=1), np.var(group2, ddof=1)\n",
    "    t_stat = (mean1 - mean2) / np.sqrt((var1/n1) + (var2/n2))\n",
    "    df = ((var1/n1) + (var2/n2))**2 / (((var1/n1)**2 / (n1-1)) + ((var2/n2)**2 / (n2-1)))\n",
    "    return t_stat, df\n",
    "\n",
    "# dados para comparação\n",
    "country1_water = data[data['Country'] == 'United States of America']['WaterPollution'].dropna()\n",
    "country2_water = data[data['Country'] == 'Germany']['WaterPollution'].dropna()\n",
    "\n",
    "# calcular t-stat e df\n",
    "t_stat_water, df_water = manual_ttest(country1_water, country2_water)\n",
    "print(f'Teste t para Poluição da Água entre EUA e Alemanha: t-stat={t_stat_water}, df={df_water}')\n",
    "\n",
    "# verificação simples de significância\n",
    "if abs(t_stat_water) > 2:\n",
    "    print('Diferença significativa na Poluição da Água entre EUA e Alemanha.')\n",
    "else:\n",
    "    print('Nenhuma diferença significativa na Poluição da Água entre EUA e Alemanha.')\n"
   ]
  },
  {
   "cell_type": "code",
   "execution_count": 20,
   "id": "5d257cdd-524b-4254-8adc-0b8b644e6193",
   "metadata": {},
   "outputs": [
    {
     "name": "stdout",
     "output_type": "stream",
     "text": [
      "Teste t para Qualidade do Ar entre Brasil e Índia: t-stat=6.346661694117115, df=200.03407132603226\n",
      "Diferença significativa na Qualidade do Ar entre Brasil e Índia.\n"
     ]
    }
   ],
   "source": [
    "# dados para Brasil e Índia\n",
    "brazil_air = data[data['Country'] == 'Brazil']['AirQuality'].dropna()\n",
    "india_air = data[data['Country'] == 'India']['AirQuality'].dropna()\n",
    "\n",
    "# calcular t-stat e df\n",
    "t_stat_brazil_india, df_brazil_india = manual_ttest(brazil_air, india_air)\n",
    "print(f'Teste t para Qualidade do Ar entre Brasil e Índia: t-stat={t_stat_brazil_india}, df={df_brazil_india}')\n",
    "\n",
    "# verificação simples de significância\n",
    "if abs(t_stat_brazil_india) > 2:\n",
    "    print('Diferença significativa na Qualidade do Ar entre Brasil e Índia.')\n",
    "else:\n",
    "    print('Nenhuma diferença significativa na Qualidade do Ar entre Brasil e Índia.')\n"
   ]
  }
 ],
 "metadata": {
  "kernelspec": {
   "display_name": "Python 3 (ipykernel)",
   "language": "python",
   "name": "python3"
  },
  "language_info": {
   "codemirror_mode": {
    "name": "ipython",
    "version": 3
   },
   "file_extension": ".py",
   "mimetype": "text/x-python",
   "name": "python",
   "nbconvert_exporter": "python",
   "pygments_lexer": "ipython3",
   "version": "3.12.3"
  }
 },
 "nbformat": 4,
 "nbformat_minor": 5
}
