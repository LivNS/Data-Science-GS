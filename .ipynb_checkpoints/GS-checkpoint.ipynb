{
 "cells": [
  {
   "cell_type": "code",
   "execution_count": null,
   "id": "9a3a0a1b-4387-4e64-9e60-5fe5db476f10",
   "metadata": {},
   "outputs": [],
   "source": []
  },
  {
   "cell_type": "code",
   "execution_count": 1,
   "id": "bf89a036-43a6-4e96-a5ba-4411a8cecf3f",
   "metadata": {},
   "outputs": [],
   "source": [
    "import pandas as pd\n",
    "import matplotlib.pyplot as plt\n",
    "import seaborn as sns\n",
    "import numpy as np\n"
   ]
  },
  {
   "cell_type": "code",
   "execution_count": 2,
   "id": "3cab865d-302e-4bfa-916c-1b95572e6980",
   "metadata": {},
   "outputs": [],
   "source": [
    "data = pd.read_csv('Cities1.csv')"
   ]
  },
  {
   "cell_type": "code",
   "execution_count": 3,
   "id": "387dbae5-1cbb-4e66-9068-239b214f1ca7",
   "metadata": {},
   "outputs": [
    {
     "name": "stdout",
     "output_type": "stream",
     "text": [
      "<class 'pandas.core.frame.DataFrame'>\n",
      "RangeIndex: 3963 entries, 0 to 3962\n",
      "Data columns (total 5 columns):\n",
      " #   Column          Non-Null Count  Dtype  \n",
      "---  ------          --------------  -----  \n",
      " 0   City            3963 non-null   object \n",
      " 1   Region          3538 non-null   object \n",
      " 2   Country         3963 non-null   object \n",
      " 3   AirQuality      3963 non-null   float64\n",
      " 4   WaterPollution  3963 non-null   float64\n",
      "dtypes: float64(2), object(3)\n",
      "memory usage: 154.9+ KB\n",
      "None\n",
      "        AirQuality  WaterPollution\n",
      "count  3963.000000     3963.000000\n",
      "mean     62.253452       44.635372\n",
      "std      30.944753       25.663910\n",
      "min       0.000000        0.000000\n",
      "25%      37.686567       25.000000\n",
      "50%      69.444444       50.000000\n",
      "75%      87.500000       57.719393\n",
      "max     100.000000      100.000000\n"
     ]
    }
   ],
   "source": [
    "# descrição dos dados\n",
    "print(data.info())\n",
    "print(data.describe())\n"
   ]
  },
  {
   "cell_type": "code",
   "execution_count": 4,
   "id": "db1f8c54-717f-4fc1-95a9-0797c7e3bb80",
   "metadata": {},
   "outputs": [
    {
     "name": "stdout",
     "output_type": "stream",
     "text": [
      "Valores nulos em cada coluna:\n",
      "City                0\n",
      "Region            425\n",
      "Country             0\n",
      "AirQuality          0\n",
      "WaterPollution      0\n",
      "dtype: int64\n"
     ]
    }
   ],
   "source": [
    "# contagem de valores nulos\n",
    "null_valores = data.isnull().sum()\n",
    "print(f'Valores nulos em cada coluna:\\n{null_valores}')"
   ]
  },
  {
   "cell_type": "code",
   "execution_count": 5,
   "id": "1609987e-8be8-4e05-a579-ef2778fc608b",
   "metadata": {},
   "outputs": [
    {
     "name": "stdout",
     "output_type": "stream",
     "text": [
      "Estatísticas Descritivas - Qualidade do Ar:\n",
      "count    3963.000000\n",
      "mean       62.253452\n",
      "std        30.944753\n",
      "min         0.000000\n",
      "25%        37.686567\n",
      "50%        69.444444\n",
      "75%        87.500000\n",
      "max       100.000000\n",
      "Name: AirQuality, dtype: float64\n",
      "\n",
      "Estatísticas Descritivas - Poluição da Água:\n",
      "count    3963.000000\n",
      "mean       44.635372\n",
      "std        25.663910\n",
      "min         0.000000\n",
      "25%        25.000000\n",
      "50%        50.000000\n",
      "75%        57.719393\n",
      "max       100.000000\n",
      "Name: WaterPollution, dtype: float64\n"
     ]
    }
   ],
   "source": [
    "# fazendo calculos de algumas estatísticas descritivas\n",
    "air_quality_desc = data['AirQuality'].describe()\n",
    "water_pollution_desc = data['WaterPollution'].describe()\n",
    "\n",
    "print(\"Estatísticas Descritivas - Qualidade do Ar:\")\n",
    "print(air_quality_desc)\n",
    "\n",
    "print(\"\\nEstatísticas Descritivas - Poluição da Água:\")\n",
    "print(water_pollution_desc)\n"
   ]
  },
  {
   "cell_type": "code",
   "execution_count": 6,
   "id": "3afaeb27-b519-41c6-890e-d2be313f9928",
   "metadata": {},
   "outputs": [
    {
     "name": "stdout",
     "output_type": "stream",
     "text": [
      "Correlação entre Qualidade do Ar e Poluição da Água: -0.45417262259393154\n"
     ]
    }
   ],
   "source": [
    "# calcular a correlação entre AirQuality e WaterPollution\n",
    "correlation = data['AirQuality'].corr(data['WaterPollution'])\n",
    "print(f'Correlação entre Qualidade do Ar e Poluição da Água: {correlation}')\n"
   ]
  },
  {
   "cell_type": "code",
   "execution_count": 7,
   "id": "1fa87ad8-d944-42f9-bac0-07812c2c6fe2",
   "metadata": {},
   "outputs": [
    {
     "name": "stdout",
     "output_type": "stream",
     "text": [
      "Teste t para Qualidade do Ar entre EUA e Alemanha: t-stat=-2.2222799218057916, df=224.55301180507547\n"
     ]
    }
   ],
   "source": [
    "# Função para calcular o valor t manualmente\n",
    "def manual_ttest(group1, group2):\n",
    "    n1, n2 = len(group1), len(group2)\n",
    "    mean1, mean2 = np.mean(group1), np.mean(group2)\n",
    "    var1, var2 = np.var(group1, ddof=1), np.var(group2, ddof=1)\n",
    "    t_stat = (mean1 - mean2) / np.sqrt((var1/n1) + (var2/n2))\n",
    "    df = ((var1/n1) + (var2/n2))**2 / (((var1/n1)**2 / (n1-1)) + ((var2/n2)**2 / (n2-1)))\n",
    "    return t_stat, df\n",
    "\n",
    "# Dados de dois países para comparação\n",
    "country1 = data[data['Country'] == 'United States of America']['AirQuality'].dropna()\n",
    "country2 = data[data['Country'] == 'Germany']['AirQuality'].dropna()\n",
    "\n",
    "t_stat_air, df_air = manual_ttest(country1, country2)\n",
    "print(f'Teste t para Qualidade do Ar entre EUA e Alemanha: t-stat={t_stat_air}, df={df_air}')\n"
   ]
  },
  {
   "cell_type": "code",
   "execution_count": null,
   "id": "e16680a3-1e9e-4eb0-8b8a-7e5228f1f134",
   "metadata": {},
   "outputs": [],
   "source": [
    "plt.figure(figsize=(10, 5))\n",
    "sns.histplot(data['AirQuality'].dropna(), bins=30, kde=True, color='blue')\n",
    "plt.title('Distribuição da Qualidade do Ar')\n",
    "plt.xlabel('Qualidade do Ar')\n",
    "plt.ylabel('Frequência')\n",
    "plt.show()\n"
   ]
  },
  {
   "cell_type": "code",
   "execution_count": null,
   "id": "22cfa4b8-2e32-4c43-8274-61b676f203b0",
   "metadata": {},
   "outputs": [],
   "source": []
  }
 ],
 "metadata": {
  "kernelspec": {
   "display_name": "Python 3 (ipykernel)",
   "language": "python",
   "name": "python3"
  },
  "language_info": {
   "codemirror_mode": {
    "name": "ipython",
    "version": 3
   },
   "file_extension": ".py",
   "mimetype": "text/x-python",
   "name": "python",
   "nbconvert_exporter": "python",
   "pygments_lexer": "ipython3",
   "version": "3.12.3"
  }
 },
 "nbformat": 4,
 "nbformat_minor": 5
}
